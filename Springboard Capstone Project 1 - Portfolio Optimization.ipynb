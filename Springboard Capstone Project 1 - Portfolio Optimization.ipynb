{
 "cells": [
  {
   "cell_type": "markdown",
   "metadata": {},
   "source": [
    "# Springboard Capstone Project 1 - Portfolio Optimization\n"
   ]
  },
  {
   "cell_type": "markdown",
   "metadata": {},
   "source": [
    "## Goal for the project: \n",
    "- To present the optimal portfolio to investors and investing companies."
   ]
  },
  {
   "cell_type": "markdown",
   "metadata": {},
   "source": [
    "## How to acquire the data:\n",
    "- I will use the \"Adjusted closing price\" from Yahoo Finance.\n",
    "- Data Range: 1/1/2006 to 12/31/2019"
   ]
  },
  {
   "cell_type": "markdown",
   "metadata": {},
   "source": [
    "## Method and Solution:\n",
    "- Modern portfolio theory (MPT) is all about assembling a portfolio that maximizes expected return for a set level of risk. MPT assumes that investors are risk-averse, meaning that given two portfolios that offer the same expected return, investors will prefer the less risky one. Thus, an investor will take on increased risk only if compensated by higher expected returns.\n",
    "- Another factor comes in to play in MPT is “diversification”. Modern portfolio theory says that it is not enough to look at the expected risk and return of one particular stock. By investing in more than one stock, an investor can reap the benefits of diversification — chief among them, a reduction in the riskiness of the portfolio.\n"
   ]
  },
  {
   "cell_type": "code",
   "execution_count": 2,
   "metadata": {},
   "outputs": [],
   "source": [
    "#Monte Carlo Simulation for Optimization Search"
   ]
  },
  {
   "cell_type": "code",
   "execution_count": 3,
   "metadata": {},
   "outputs": [],
   "source": [
    "import pandas as pd\n",
    "import numpy as np\n",
    "import matplotlib.pyplot as plt\n",
    "import pandas_datareader as web\n",
    "from scipy import stats\n",
    "import seaborn as sns\n",
    "from tabulate import tabulate\n",
    "%matplotlib inline"
   ]
  },
  {
   "cell_type": "code",
   "execution_count": 4,
   "metadata": {},
   "outputs": [],
   "source": [
    "tickers = ['AAPL', 'CSCO', 'IBM', 'AMZN', 'MSFT','V']\n",
    "price_data = web.get_data_yahoo(tickers,\n",
    "                               start = '2006-01-01',\n",
    "                               end = '2019-12-31')\n",
    "price_data = price_data['Adj Close']"
   ]
  },
  {
   "cell_type": "code",
   "execution_count": 5,
   "metadata": {},
   "outputs": [],
   "source": [
    "#aapl = pd.read_csv('Desktop/Springboard/AAPL.csv',index_col='Date',parse_dates=True)\n",
    "#cisco = pd.read_csv('Desktop/Springboard/CSCO.csv',index_col='Date',parse_dates=True)\n",
    "#ibm = pd.read_csv('Desktop/Springboard/IBM.csv',index_col='Date',parse_dates=True)\n",
    "#amzn = pd.read_csv('Desktop/Springboard/AMZN.csv',index_col='Date',parse_dates=True)\n",
    "#msft = pd.read_csv('Desktop/Springboard/MSFT.csv',index_col='Date',parse_dates=True)\n",
    "#visa = pd.read_csv('Desktop/Springboard/v.csv',index_col='Date',parse_dates=True)"
   ]
  },
  {
   "cell_type": "code",
   "execution_count": 6,
   "metadata": {},
   "outputs": [],
   "source": [
    "#stocks = pd.concat([aapl,cisco,ibm,amzn,msft,visa],axis=1)\n",
    "#stocks.columns = ['aapl','cisco','ibm','amzn','msft','visa']"
   ]
  },
  {
   "cell_type": "code",
   "execution_count": 7,
   "metadata": {
    "scrolled": true
   },
   "outputs": [
    {
     "data": {
      "text/html": [
       "<div>\n",
       "<style scoped>\n",
       "    .dataframe tbody tr th:only-of-type {\n",
       "        vertical-align: middle;\n",
       "    }\n",
       "\n",
       "    .dataframe tbody tr th {\n",
       "        vertical-align: top;\n",
       "    }\n",
       "\n",
       "    .dataframe thead th {\n",
       "        text-align: right;\n",
       "    }\n",
       "</style>\n",
       "<table border=\"1\" class=\"dataframe\">\n",
       "  <thead>\n",
       "    <tr style=\"text-align: right;\">\n",
       "      <th>Symbols</th>\n",
       "      <th>AAPL</th>\n",
       "      <th>AMZN</th>\n",
       "      <th>CSCO</th>\n",
       "      <th>IBM</th>\n",
       "      <th>MSFT</th>\n",
       "      <th>V</th>\n",
       "    </tr>\n",
       "    <tr>\n",
       "      <th>Date</th>\n",
       "      <th></th>\n",
       "      <th></th>\n",
       "      <th></th>\n",
       "      <th></th>\n",
       "      <th></th>\n",
       "      <th></th>\n",
       "    </tr>\n",
       "  </thead>\n",
       "  <tbody>\n",
       "    <tr>\n",
       "      <th>2006-01-03</th>\n",
       "      <td>9.269435</td>\n",
       "      <td>47.580002</td>\n",
       "      <td>13.381426</td>\n",
       "      <td>55.763287</td>\n",
       "      <td>19.657124</td>\n",
       "      <td>NaN</td>\n",
       "    </tr>\n",
       "    <tr>\n",
       "      <th>2006-01-04</th>\n",
       "      <td>9.296719</td>\n",
       "      <td>47.250000</td>\n",
       "      <td>13.688161</td>\n",
       "      <td>55.688545</td>\n",
       "      <td>19.752342</td>\n",
       "      <td>NaN</td>\n",
       "    </tr>\n",
       "    <tr>\n",
       "      <th>2006-01-05</th>\n",
       "      <td>9.223555</td>\n",
       "      <td>47.650002</td>\n",
       "      <td>14.071590</td>\n",
       "      <td>56.062294</td>\n",
       "      <td>19.766989</td>\n",
       "      <td>NaN</td>\n",
       "    </tr>\n",
       "    <tr>\n",
       "      <th>2006-01-06</th>\n",
       "      <td>9.461646</td>\n",
       "      <td>47.869999</td>\n",
       "      <td>14.393659</td>\n",
       "      <td>57.727161</td>\n",
       "      <td>19.708401</td>\n",
       "      <td>NaN</td>\n",
       "    </tr>\n",
       "    <tr>\n",
       "      <th>2006-01-09</th>\n",
       "      <td>9.430640</td>\n",
       "      <td>47.080002</td>\n",
       "      <td>14.616045</td>\n",
       "      <td>56.898148</td>\n",
       "      <td>19.671768</td>\n",
       "      <td>NaN</td>\n",
       "    </tr>\n",
       "  </tbody>\n",
       "</table>\n",
       "</div>"
      ],
      "text/plain": [
       "Symbols         AAPL       AMZN       CSCO        IBM       MSFT   V\n",
       "Date                                                                \n",
       "2006-01-03  9.269435  47.580002  13.381426  55.763287  19.657124 NaN\n",
       "2006-01-04  9.296719  47.250000  13.688161  55.688545  19.752342 NaN\n",
       "2006-01-05  9.223555  47.650002  14.071590  56.062294  19.766989 NaN\n",
       "2006-01-06  9.461646  47.869999  14.393659  57.727161  19.708401 NaN\n",
       "2006-01-09  9.430640  47.080002  14.616045  56.898148  19.671768 NaN"
      ]
     },
     "execution_count": 7,
     "metadata": {},
     "output_type": "execute_result"
    }
   ],
   "source": [
    "price_data.head()"
   ]
  },
  {
   "cell_type": "code",
   "execution_count": 8,
   "metadata": {},
   "outputs": [
    {
     "data": {
      "text/plain": [
       "Symbols\n",
       "AAPL    0.001181\n",
       "AMZN    0.001333\n",
       "CSCO    0.000521\n",
       "IBM     0.000339\n",
       "MSFT    0.000730\n",
       "V       0.001120\n",
       "dtype: float64"
      ]
     },
     "execution_count": 8,
     "metadata": {},
     "output_type": "execute_result"
    }
   ],
   "source": [
    "# Mean Daily Return\n",
    "price_data.pct_change(1).mean()\n"
   ]
  },
  {
   "cell_type": "code",
   "execution_count": 9,
   "metadata": {},
   "outputs": [
    {
     "data": {
      "text/html": [
       "<div>\n",
       "<style scoped>\n",
       "    .dataframe tbody tr th:only-of-type {\n",
       "        vertical-align: middle;\n",
       "    }\n",
       "\n",
       "    .dataframe tbody tr th {\n",
       "        vertical-align: top;\n",
       "    }\n",
       "\n",
       "    .dataframe thead th {\n",
       "        text-align: right;\n",
       "    }\n",
       "</style>\n",
       "<table border=\"1\" class=\"dataframe\">\n",
       "  <thead>\n",
       "    <tr style=\"text-align: right;\">\n",
       "      <th>Symbols</th>\n",
       "      <th>AAPL</th>\n",
       "      <th>AMZN</th>\n",
       "      <th>CSCO</th>\n",
       "      <th>IBM</th>\n",
       "      <th>MSFT</th>\n",
       "      <th>V</th>\n",
       "    </tr>\n",
       "    <tr>\n",
       "      <th>Symbols</th>\n",
       "      <th></th>\n",
       "      <th></th>\n",
       "      <th></th>\n",
       "      <th></th>\n",
       "      <th></th>\n",
       "      <th></th>\n",
       "    </tr>\n",
       "  </thead>\n",
       "  <tbody>\n",
       "    <tr>\n",
       "      <th>AAPL</th>\n",
       "      <td>1.000000</td>\n",
       "      <td>0.434518</td>\n",
       "      <td>0.471804</td>\n",
       "      <td>0.446622</td>\n",
       "      <td>0.463115</td>\n",
       "      <td>0.458443</td>\n",
       "    </tr>\n",
       "    <tr>\n",
       "      <th>AMZN</th>\n",
       "      <td>0.434518</td>\n",
       "      <td>1.000000</td>\n",
       "      <td>0.429882</td>\n",
       "      <td>0.405514</td>\n",
       "      <td>0.485681</td>\n",
       "      <td>0.463166</td>\n",
       "    </tr>\n",
       "    <tr>\n",
       "      <th>CSCO</th>\n",
       "      <td>0.471804</td>\n",
       "      <td>0.429882</td>\n",
       "      <td>1.000000</td>\n",
       "      <td>0.548351</td>\n",
       "      <td>0.575420</td>\n",
       "      <td>0.478098</td>\n",
       "    </tr>\n",
       "    <tr>\n",
       "      <th>IBM</th>\n",
       "      <td>0.446622</td>\n",
       "      <td>0.405514</td>\n",
       "      <td>0.548351</td>\n",
       "      <td>1.000000</td>\n",
       "      <td>0.527498</td>\n",
       "      <td>0.451956</td>\n",
       "    </tr>\n",
       "    <tr>\n",
       "      <th>MSFT</th>\n",
       "      <td>0.463115</td>\n",
       "      <td>0.485681</td>\n",
       "      <td>0.575420</td>\n",
       "      <td>0.527498</td>\n",
       "      <td>1.000000</td>\n",
       "      <td>0.469755</td>\n",
       "    </tr>\n",
       "    <tr>\n",
       "      <th>V</th>\n",
       "      <td>0.458443</td>\n",
       "      <td>0.463166</td>\n",
       "      <td>0.478098</td>\n",
       "      <td>0.451956</td>\n",
       "      <td>0.469755</td>\n",
       "      <td>1.000000</td>\n",
       "    </tr>\n",
       "  </tbody>\n",
       "</table>\n",
       "</div>"
      ],
      "text/plain": [
       "Symbols      AAPL      AMZN      CSCO       IBM      MSFT         V\n",
       "Symbols                                                            \n",
       "AAPL     1.000000  0.434518  0.471804  0.446622  0.463115  0.458443\n",
       "AMZN     0.434518  1.000000  0.429882  0.405514  0.485681  0.463166\n",
       "CSCO     0.471804  0.429882  1.000000  0.548351  0.575420  0.478098\n",
       "IBM      0.446622  0.405514  0.548351  1.000000  0.527498  0.451956\n",
       "MSFT     0.463115  0.485681  0.575420  0.527498  1.000000  0.469755\n",
       "V        0.458443  0.463166  0.478098  0.451956  0.469755  1.000000"
      ]
     },
     "execution_count": 9,
     "metadata": {},
     "output_type": "execute_result"
    }
   ],
   "source": [
    "price_data.pct_change(1).corr()"
   ]
  },
  {
   "cell_type": "markdown",
   "metadata": {},
   "source": [
    "## Log Returns vs Arithmetic Returns\n",
    "- Most technical analysis technques require detrending or normalizing the time series.\n",
    "- Using log returns is a nice way to do that.\n",
    "\n",
    "- For this project, these two returns won't make a big difference. We will just use log return for the project."
   ]
  },
  {
   "cell_type": "code",
   "execution_count": 10,
   "metadata": {},
   "outputs": [
    {
     "data": {
      "text/html": [
       "<div>\n",
       "<style scoped>\n",
       "    .dataframe tbody tr th:only-of-type {\n",
       "        vertical-align: middle;\n",
       "    }\n",
       "\n",
       "    .dataframe tbody tr th {\n",
       "        vertical-align: top;\n",
       "    }\n",
       "\n",
       "    .dataframe thead th {\n",
       "        text-align: right;\n",
       "    }\n",
       "</style>\n",
       "<table border=\"1\" class=\"dataframe\">\n",
       "  <thead>\n",
       "    <tr style=\"text-align: right;\">\n",
       "      <th>Symbols</th>\n",
       "      <th>AAPL</th>\n",
       "      <th>AMZN</th>\n",
       "      <th>CSCO</th>\n",
       "      <th>IBM</th>\n",
       "      <th>MSFT</th>\n",
       "      <th>V</th>\n",
       "    </tr>\n",
       "    <tr>\n",
       "      <th>Date</th>\n",
       "      <th></th>\n",
       "      <th></th>\n",
       "      <th></th>\n",
       "      <th></th>\n",
       "      <th></th>\n",
       "      <th></th>\n",
       "    </tr>\n",
       "  </thead>\n",
       "  <tbody>\n",
       "    <tr>\n",
       "      <th>2006-01-03</th>\n",
       "      <td>NaN</td>\n",
       "      <td>NaN</td>\n",
       "      <td>NaN</td>\n",
       "      <td>NaN</td>\n",
       "      <td>NaN</td>\n",
       "      <td>NaN</td>\n",
       "    </tr>\n",
       "    <tr>\n",
       "      <th>2006-01-04</th>\n",
       "      <td>0.002943</td>\n",
       "      <td>-0.006936</td>\n",
       "      <td>0.022922</td>\n",
       "      <td>-0.001340</td>\n",
       "      <td>0.004844</td>\n",
       "      <td>NaN</td>\n",
       "    </tr>\n",
       "    <tr>\n",
       "      <th>2006-01-05</th>\n",
       "      <td>-0.007870</td>\n",
       "      <td>0.008466</td>\n",
       "      <td>0.028012</td>\n",
       "      <td>0.006711</td>\n",
       "      <td>0.000742</td>\n",
       "      <td>NaN</td>\n",
       "    </tr>\n",
       "    <tr>\n",
       "      <th>2006-01-06</th>\n",
       "      <td>0.025813</td>\n",
       "      <td>0.004617</td>\n",
       "      <td>0.022888</td>\n",
       "      <td>0.029697</td>\n",
       "      <td>-0.002964</td>\n",
       "      <td>NaN</td>\n",
       "    </tr>\n",
       "    <tr>\n",
       "      <th>2006-01-09</th>\n",
       "      <td>-0.003277</td>\n",
       "      <td>-0.016503</td>\n",
       "      <td>0.015450</td>\n",
       "      <td>-0.014361</td>\n",
       "      <td>-0.001859</td>\n",
       "      <td>NaN</td>\n",
       "    </tr>\n",
       "  </tbody>\n",
       "</table>\n",
       "</div>"
      ],
      "text/plain": [
       "Symbols         AAPL      AMZN      CSCO       IBM      MSFT   V\n",
       "Date                                                            \n",
       "2006-01-03       NaN       NaN       NaN       NaN       NaN NaN\n",
       "2006-01-04  0.002943 -0.006936  0.022922 -0.001340  0.004844 NaN\n",
       "2006-01-05 -0.007870  0.008466  0.028012  0.006711  0.000742 NaN\n",
       "2006-01-06  0.025813  0.004617  0.022888  0.029697 -0.002964 NaN\n",
       "2006-01-09 -0.003277 -0.016503  0.015450 -0.014361 -0.001859 NaN"
      ]
     },
     "execution_count": 10,
     "metadata": {},
     "output_type": "execute_result"
    }
   ],
   "source": [
    "# Arithmetic Return\n",
    "price_data.pct_change(1).head()"
   ]
  },
  {
   "cell_type": "code",
   "execution_count": 11,
   "metadata": {},
   "outputs": [
    {
     "data": {
      "text/html": [
       "<div>\n",
       "<style scoped>\n",
       "    .dataframe tbody tr th:only-of-type {\n",
       "        vertical-align: middle;\n",
       "    }\n",
       "\n",
       "    .dataframe tbody tr th {\n",
       "        vertical-align: top;\n",
       "    }\n",
       "\n",
       "    .dataframe thead th {\n",
       "        text-align: right;\n",
       "    }\n",
       "</style>\n",
       "<table border=\"1\" class=\"dataframe\">\n",
       "  <thead>\n",
       "    <tr style=\"text-align: right;\">\n",
       "      <th>Symbols</th>\n",
       "      <th>AAPL</th>\n",
       "      <th>AMZN</th>\n",
       "      <th>CSCO</th>\n",
       "      <th>IBM</th>\n",
       "      <th>MSFT</th>\n",
       "      <th>V</th>\n",
       "    </tr>\n",
       "    <tr>\n",
       "      <th>Date</th>\n",
       "      <th></th>\n",
       "      <th></th>\n",
       "      <th></th>\n",
       "      <th></th>\n",
       "      <th></th>\n",
       "      <th></th>\n",
       "    </tr>\n",
       "  </thead>\n",
       "  <tbody>\n",
       "    <tr>\n",
       "      <th>2006-01-03</th>\n",
       "      <td>NaN</td>\n",
       "      <td>NaN</td>\n",
       "      <td>NaN</td>\n",
       "      <td>NaN</td>\n",
       "      <td>NaN</td>\n",
       "      <td>NaN</td>\n",
       "    </tr>\n",
       "    <tr>\n",
       "      <th>2006-01-04</th>\n",
       "      <td>0.002939</td>\n",
       "      <td>-0.006960</td>\n",
       "      <td>0.022664</td>\n",
       "      <td>-0.001341</td>\n",
       "      <td>0.004832</td>\n",
       "      <td>NaN</td>\n",
       "    </tr>\n",
       "    <tr>\n",
       "      <th>2006-01-05</th>\n",
       "      <td>-0.007901</td>\n",
       "      <td>0.008430</td>\n",
       "      <td>0.027627</td>\n",
       "      <td>0.006689</td>\n",
       "      <td>0.000741</td>\n",
       "      <td>NaN</td>\n",
       "    </tr>\n",
       "    <tr>\n",
       "      <th>2006-01-06</th>\n",
       "      <td>0.025486</td>\n",
       "      <td>0.004606</td>\n",
       "      <td>0.022630</td>\n",
       "      <td>0.029264</td>\n",
       "      <td>-0.002968</td>\n",
       "      <td>NaN</td>\n",
       "    </tr>\n",
       "    <tr>\n",
       "      <th>2006-01-09</th>\n",
       "      <td>-0.003282</td>\n",
       "      <td>-0.016641</td>\n",
       "      <td>0.015332</td>\n",
       "      <td>-0.014465</td>\n",
       "      <td>-0.001860</td>\n",
       "      <td>NaN</td>\n",
       "    </tr>\n",
       "  </tbody>\n",
       "</table>\n",
       "</div>"
      ],
      "text/plain": [
       "Symbols         AAPL      AMZN      CSCO       IBM      MSFT   V\n",
       "Date                                                            \n",
       "2006-01-03       NaN       NaN       NaN       NaN       NaN NaN\n",
       "2006-01-04  0.002939 -0.006960  0.022664 -0.001341  0.004832 NaN\n",
       "2006-01-05 -0.007901  0.008430  0.027627  0.006689  0.000741 NaN\n",
       "2006-01-06  0.025486  0.004606  0.022630  0.029264 -0.002968 NaN\n",
       "2006-01-09 -0.003282 -0.016641  0.015332 -0.014465 -0.001860 NaN"
      ]
     },
     "execution_count": 11,
     "metadata": {},
     "output_type": "execute_result"
    }
   ],
   "source": [
    "# Log Return\n",
    "log_ret = np.log(price_data/price_data.shift(1))\n",
    "log_ret.head()"
   ]
  },
  {
   "cell_type": "code",
   "execution_count": 12,
   "metadata": {},
   "outputs": [
    {
     "data": {
      "image/png": "[encoded data removed]",
      "text/plain": [
       "<Figure size 864x432 with 6 Axes>"
      ]
     },
     "metadata": {},
     "output_type": "display_data"
    }
   ],
   "source": [
    "# Log Return histgrams\n",
    "log_ret.hist(bins=100,figsize=(12,6));\n",
    "plt.tight_layout()"
   ]
  },
  {
   "cell_type": "code",
   "execution_count": 13,
   "metadata": {},
   "outputs": [
    {
     "data": {
      "text/plain": [
       "Symbols\n",
       "AAPL    0.000980\n",
       "AMZN    0.001039\n",
       "CSCO    0.000358\n",
       "IBM     0.000246\n",
       "MSFT    0.000590\n",
       "V       0.000951\n",
       "dtype: float64"
      ]
     },
     "execution_count": 13,
     "metadata": {},
     "output_type": "execute_result"
    }
   ],
   "source": [
    "log_ret.mean()"
   ]
  },
  {
   "cell_type": "code",
   "execution_count": 14,
   "metadata": {},
   "outputs": [
    {
     "data": {
      "text/html": [
       "<div>\n",
       "<style scoped>\n",
       "    .dataframe tbody tr th:only-of-type {\n",
       "        vertical-align: middle;\n",
       "    }\n",
       "\n",
       "    .dataframe tbody tr th {\n",
       "        vertical-align: top;\n",
       "    }\n",
       "\n",
       "    .dataframe thead th {\n",
       "        text-align: right;\n",
       "    }\n",
       "</style>\n",
       "<table border=\"1\" class=\"dataframe\">\n",
       "  <thead>\n",
       "    <tr style=\"text-align: right;\">\n",
       "      <th>Symbols</th>\n",
       "      <th>AAPL</th>\n",
       "      <th>AMZN</th>\n",
       "      <th>CSCO</th>\n",
       "      <th>IBM</th>\n",
       "      <th>MSFT</th>\n",
       "      <th>V</th>\n",
       "    </tr>\n",
       "    <tr>\n",
       "      <th>Symbols</th>\n",
       "      <th></th>\n",
       "      <th></th>\n",
       "      <th></th>\n",
       "      <th></th>\n",
       "      <th></th>\n",
       "      <th></th>\n",
       "    </tr>\n",
       "  </thead>\n",
       "  <tbody>\n",
       "    <tr>\n",
       "      <th>AAPL</th>\n",
       "      <td>0.000401</td>\n",
       "      <td>0.000212</td>\n",
       "      <td>0.000171</td>\n",
       "      <td>0.000122</td>\n",
       "      <td>0.000155</td>\n",
       "      <td>0.000159</td>\n",
       "    </tr>\n",
       "    <tr>\n",
       "      <th>AMZN</th>\n",
       "      <td>0.000212</td>\n",
       "      <td>0.000583</td>\n",
       "      <td>0.000189</td>\n",
       "      <td>0.000134</td>\n",
       "      <td>0.000196</td>\n",
       "      <td>0.000199</td>\n",
       "    </tr>\n",
       "    <tr>\n",
       "      <th>CSCO</th>\n",
       "      <td>0.000171</td>\n",
       "      <td>0.000189</td>\n",
       "      <td>0.000326</td>\n",
       "      <td>0.000135</td>\n",
       "      <td>0.000173</td>\n",
       "      <td>0.000159</td>\n",
       "    </tr>\n",
       "    <tr>\n",
       "      <th>IBM</th>\n",
       "      <td>0.000122</td>\n",
       "      <td>0.000134</td>\n",
       "      <td>0.000135</td>\n",
       "      <td>0.000186</td>\n",
       "      <td>0.000120</td>\n",
       "      <td>0.000116</td>\n",
       "    </tr>\n",
       "    <tr>\n",
       "      <th>MSFT</th>\n",
       "      <td>0.000155</td>\n",
       "      <td>0.000196</td>\n",
       "      <td>0.000173</td>\n",
       "      <td>0.000120</td>\n",
       "      <td>0.000278</td>\n",
       "      <td>0.000147</td>\n",
       "    </tr>\n",
       "    <tr>\n",
       "      <th>V</th>\n",
       "      <td>0.000159</td>\n",
       "      <td>0.000199</td>\n",
       "      <td>0.000159</td>\n",
       "      <td>0.000116</td>\n",
       "      <td>0.000147</td>\n",
       "      <td>0.000338</td>\n",
       "    </tr>\n",
       "  </tbody>\n",
       "</table>\n",
       "</div>"
      ],
      "text/plain": [
       "Symbols      AAPL      AMZN      CSCO       IBM      MSFT         V\n",
       "Symbols                                                            \n",
       "AAPL     0.000401  0.000212  0.000171  0.000122  0.000155  0.000159\n",
       "AMZN     0.000212  0.000583  0.000189  0.000134  0.000196  0.000199\n",
       "CSCO     0.000171  0.000189  0.000326  0.000135  0.000173  0.000159\n",
       "IBM      0.000122  0.000134  0.000135  0.000186  0.000120  0.000116\n",
       "MSFT     0.000155  0.000196  0.000173  0.000120  0.000278  0.000147\n",
       "V        0.000159  0.000199  0.000159  0.000116  0.000147  0.000338"
      ]
     },
     "execution_count": 14,
     "metadata": {},
     "output_type": "execute_result"
    }
   ],
   "source": [
    "# Compute pairwise covariance of columns\n",
    "log_ret.cov()"
   ]
  },
  {
   "cell_type": "code",
   "execution_count": 15,
   "metadata": {},
   "outputs": [
    {
     "data": {
      "text/html": [
       "<div>\n",
       "<style scoped>\n",
       "    .dataframe tbody tr th:only-of-type {\n",
       "        vertical-align: middle;\n",
       "    }\n",
       "\n",
       "    .dataframe tbody tr th {\n",
       "        vertical-align: top;\n",
       "    }\n",
       "\n",
       "    .dataframe thead th {\n",
       "        text-align: right;\n",
       "    }\n",
       "</style>\n",
       "<table border=\"1\" class=\"dataframe\">\n",
       "  <thead>\n",
       "    <tr style=\"text-align: right;\">\n",
       "      <th>Symbols</th>\n",
       "      <th>AAPL</th>\n",
       "      <th>AMZN</th>\n",
       "      <th>CSCO</th>\n",
       "      <th>IBM</th>\n",
       "      <th>MSFT</th>\n",
       "      <th>V</th>\n",
       "    </tr>\n",
       "    <tr>\n",
       "      <th>Symbols</th>\n",
       "      <th></th>\n",
       "      <th></th>\n",
       "      <th></th>\n",
       "      <th></th>\n",
       "      <th></th>\n",
       "      <th></th>\n",
       "    </tr>\n",
       "  </thead>\n",
       "  <tbody>\n",
       "    <tr>\n",
       "      <th>AAPL</th>\n",
       "      <td>0.101088</td>\n",
       "      <td>0.053493</td>\n",
       "      <td>0.043013</td>\n",
       "      <td>0.030687</td>\n",
       "      <td>0.039030</td>\n",
       "      <td>0.040179</td>\n",
       "    </tr>\n",
       "    <tr>\n",
       "      <th>AMZN</th>\n",
       "      <td>0.053493</td>\n",
       "      <td>0.146914</td>\n",
       "      <td>0.047719</td>\n",
       "      <td>0.033891</td>\n",
       "      <td>0.049500</td>\n",
       "      <td>0.050121</td>\n",
       "    </tr>\n",
       "    <tr>\n",
       "      <th>CSCO</th>\n",
       "      <td>0.043013</td>\n",
       "      <td>0.047719</td>\n",
       "      <td>0.082263</td>\n",
       "      <td>0.033937</td>\n",
       "      <td>0.043576</td>\n",
       "      <td>0.039944</td>\n",
       "    </tr>\n",
       "    <tr>\n",
       "      <th>IBM</th>\n",
       "      <td>0.030687</td>\n",
       "      <td>0.033891</td>\n",
       "      <td>0.033937</td>\n",
       "      <td>0.046755</td>\n",
       "      <td>0.030219</td>\n",
       "      <td>0.029110</td>\n",
       "    </tr>\n",
       "    <tr>\n",
       "      <th>MSFT</th>\n",
       "      <td>0.039030</td>\n",
       "      <td>0.049500</td>\n",
       "      <td>0.043576</td>\n",
       "      <td>0.030219</td>\n",
       "      <td>0.070166</td>\n",
       "      <td>0.037139</td>\n",
       "    </tr>\n",
       "    <tr>\n",
       "      <th>V</th>\n",
       "      <td>0.040179</td>\n",
       "      <td>0.050121</td>\n",
       "      <td>0.039944</td>\n",
       "      <td>0.029110</td>\n",
       "      <td>0.037139</td>\n",
       "      <td>0.085071</td>\n",
       "    </tr>\n",
       "  </tbody>\n",
       "</table>\n",
       "</div>"
      ],
      "text/plain": [
       "Symbols      AAPL      AMZN      CSCO       IBM      MSFT         V\n",
       "Symbols                                                            \n",
       "AAPL     0.101088  0.053493  0.043013  0.030687  0.039030  0.040179\n",
       "AMZN     0.053493  0.146914  0.047719  0.033891  0.049500  0.050121\n",
       "CSCO     0.043013  0.047719  0.082263  0.033937  0.043576  0.039944\n",
       "IBM      0.030687  0.033891  0.033937  0.046755  0.030219  0.029110\n",
       "MSFT     0.039030  0.049500  0.043576  0.030219  0.070166  0.037139\n",
       "V        0.040179  0.050121  0.039944  0.029110  0.037139  0.085071"
      ]
     },
     "execution_count": 15,
     "metadata": {},
     "output_type": "execute_result"
    }
   ],
   "source": [
    "log_ret.cov()*252 # multiply by days"
   ]
  },
  {
   "cell_type": "markdown",
   "metadata": {},
   "source": [
    "# Single Run for Some Random Allocation\n"
   ]
  },
  {
   "cell_type": "code",
   "execution_count": 16,
   "metadata": {},
   "outputs": [
    {
     "name": "stdout",
     "output_type": "stream",
     "text": [
      "Stocks\n",
      "Index(['AAPL', 'AMZN', 'CSCO', 'IBM', 'MSFT', 'V'], dtype='object', name='Symbols')\n",
      "\n",
      "\n",
      "Creating Random Weights\n",
      "[0.51639863 0.57066759 0.02847423 0.17152166 0.68527698 0.83389686]\n",
      "\n",
      "\n",
      "Rebalance to sum to 1.0\n",
      "[0.18401825 0.20335695 0.01014677 0.06112161 0.24419792 0.2971585 ]\n",
      "\n",
      "\n",
      "Expected Portfolio Return\n",
      "0.21096813950216284\n",
      "\n",
      "\n",
      "Expected Volatility\n",
      "0.23237084573135564\n",
      "\n",
      "\n",
      "Sharpe Ratio\n",
      "0.9078941845659222\n"
     ]
    }
   ],
   "source": [
    "# Set seed (optional)\n",
    "np.random.seed(101)\n",
    "\n",
    "# Stock Columns\n",
    "print('Stocks')\n",
    "print(price_data.columns)\n",
    "print('\\n')\n",
    "\n",
    "# Create Random Weights\n",
    "print('Creating Random Weights')\n",
    "weights = np.array(np.random.random(6))\n",
    "print(weights)\n",
    "print('\\n')\n",
    "\n",
    "# Rebalance Weights\n",
    "print('Rebalance to sum to 1.0')\n",
    "weights = weights / np.sum(weights)\n",
    "print(weights)\n",
    "print('\\n')\n",
    "\n",
    "# Expected Return\n",
    "print('Expected Portfolio Return')\n",
    "exp_ret = np.sum(log_ret.mean() * weights) *252\n",
    "print(exp_ret)\n",
    "print('\\n')\n",
    "\n",
    "# Expected Variance\n",
    "print('Expected Volatility')\n",
    "exp_vol = np.sqrt(np.dot(weights.T, np.dot(log_ret.cov() * 252, weights)))\n",
    "print(exp_vol)\n",
    "print('\\n')\n",
    "\n",
    "# Sharpe Ratio\n",
    "SR = exp_ret/exp_vol\n",
    "print('Sharpe Ratio')\n",
    "print(SR)\n"
   ]
  },
  {
   "cell_type": "markdown",
   "metadata": {},
   "source": [
    "## Repeat single run for thousands of times\n",
    "- Let's say the number of possible positions (or number of actual portfolios) is 5000.\n",
    "- Step 1: Get the maximum Sharpe Ratio and it's index location from the 5000 portfolios\n",
    "- Step 2: Pass the index location to the model\n",
    "- Step 3: Put a red dot for the max Sharpe ratio (That is, find the max Sharpe return and max Sharpe Volitility.)"
   ]
  },
  {
   "cell_type": "code",
   "execution_count": 17,
   "metadata": {},
   "outputs": [],
   "source": [
    "np.random.seed(101)\n",
    "num_ports = 5000\n",
    "\n",
    "all_weights = np.zeros((num_ports,len(price_data.columns)))\n",
    "ret_arr = np.zeros(num_ports)\n",
    "vol_arr = np.zeros(num_ports)\n",
    "sharpe_arr = np.zeros(num_ports)\n",
    "\n",
    "for ind in range(num_ports):\n",
    "\n",
    "    # Create Random Weights\n",
    "    weights = np.array(np.random.random(6))\n",
    "\n",
    "    # Rebalance Weights\n",
    "    weights = weights / np.sum(weights)\n",
    "    \n",
    "    # Save Weights\n",
    "    all_weights[ind,:] = weights\n",
    "\n",
    "    # Expected Return\n",
    "    ret_arr[ind] = np.sum((log_ret.mean() * weights) *252)\n",
    "\n",
    "    # Expected Variance\n",
    "    vol_arr[ind] = np.sqrt(np.dot(weights.T, np.dot(log_ret.cov() * 252, weights)))\n",
    "\n",
    "    # Sharpe Ratio\n",
    "    sharpe_arr[ind] = ret_arr[ind]/vol_arr[ind]"
   ]
  },
  {
   "cell_type": "code",
   "execution_count": 18,
   "metadata": {},
   "outputs": [
    {
     "data": {
      "text/plain": [
       "0.9529438952912254"
      ]
     },
     "execution_count": 18,
     "metadata": {},
     "output_type": "execute_result"
    }
   ],
   "source": [
    "# The maximum Sharpe ratio\n",
    "sharpe_arr.max()"
   ]
  },
  {
   "cell_type": "code",
   "execution_count": 19,
   "metadata": {},
   "outputs": [
    {
     "data": {
      "text/plain": [
       "4730"
      ]
     },
     "execution_count": 19,
     "metadata": {},
     "output_type": "execute_result"
    }
   ],
   "source": [
    "# Return the best index location of Sharpe ratio\n",
    "sharpe_arr.argmax()"
   ]
  },
  {
   "cell_type": "code",
   "execution_count": 20,
   "metadata": {},
   "outputs": [
    {
     "data": {
      "text/plain": [
       "array([0.32122232, 0.14385507, 0.00239324, 0.01638349, 0.15548085,\n",
       "       0.36066502])"
      ]
     },
     "execution_count": 20,
     "metadata": {},
     "output_type": "execute_result"
    }
   ],
   "source": [
    "# Take the best index location and pass it in the location\n",
    "\n",
    "all_weights[4730,:]"
   ]
  },
  {
   "cell_type": "code",
   "execution_count": 21,
   "metadata": {},
   "outputs": [],
   "source": [
    "max_sr_ret = ret_arr[4730]\n",
    "max_sr_vol = vol_arr[4730]"
   ]
  },
  {
   "cell_type": "code",
   "execution_count": 22,
   "metadata": {},
   "outputs": [
    {
     "data": {
      "text/plain": [
       "<matplotlib.collections.PathCollection at 0x16d809badd8>"
      ]
     },
     "execution_count": 22,
     "metadata": {},
     "output_type": "execute_result"
    },
    {
     "data": {
      "image/png": "[encoded data removed]",
      "text/plain": [
       "<Figure size 864x576 with 2 Axes>"
      ]
     },
     "metadata": {},
     "output_type": "display_data"
    }
   ],
   "source": [
    "plt.figure(figsize=(12,8))\n",
    "plt.scatter(vol_arr,ret_arr,c=sharpe_arr,cmap='plasma')\n",
    "plt.colorbar(label='Sharpe Ratio')\n",
    "plt.xlabel('Volatility')\n",
    "plt.ylabel('Return')\n",
    "\n",
    "# Add red dot for max SR\n",
    "plt.scatter(max_sr_vol,max_sr_ret,c='red',s=50,edgecolors='black')"
   ]
  },
  {
   "cell_type": "markdown",
   "metadata": {},
   "source": [
    "## Efficient Frontier\n",
    "### Mathematical Optimization\n"
   ]
  },
  {
   "cell_type": "code",
   "execution_count": 23,
   "metadata": {},
   "outputs": [],
   "source": [
    "# Functionalize Return and SR operations\n"
   ]
  },
  {
   "cell_type": "code",
   "execution_count": 24,
   "metadata": {},
   "outputs": [],
   "source": [
    "def get_ret_vol_sr(weights):\n",
    "    \"\"\"\n",
    "    Takes in weights, returns array or return,volatility, sharpe ratio\n",
    "    \"\"\"\n",
    "    weights = np.array(weights)\n",
    "    ret = np.sum(log_ret.mean() * weights) * 252\n",
    "    vol = np.sqrt(np.dot(weights.T, np.dot(log_ret.cov() * 252, weights)))\n",
    "    sr = ret/vol\n",
    "    return np.array([ret,vol,sr])"
   ]
  },
  {
   "cell_type": "code",
   "execution_count": 25,
   "metadata": {},
   "outputs": [],
   "source": [
    "from scipy.optimize import minimize"
   ]
  },
  {
   "cell_type": "code",
   "execution_count": 26,
   "metadata": {},
   "outputs": [],
   "source": [
    "def neg_sharpe(weights):\n",
    "    return  get_ret_vol_sr(weights)[2] * -1"
   ]
  },
  {
   "cell_type": "code",
   "execution_count": 27,
   "metadata": {},
   "outputs": [],
   "source": [
    "# Contraints\n",
    "def check_sum(weights):\n",
    "    '''\n",
    "    Returns 0 if sum of weights is 1.0\n",
    "    '''\n",
    "    return np.sum(weights) - 1"
   ]
  },
  {
   "cell_type": "code",
   "execution_count": 28,
   "metadata": {},
   "outputs": [],
   "source": [
    "# By convention of minimize function it should be a function that returns zero for conditions\n",
    "cons = ({'type':'eq','fun': check_sum})"
   ]
  },
  {
   "cell_type": "code",
   "execution_count": 29,
   "metadata": {},
   "outputs": [],
   "source": [
    "# 0-1 bounds for each weight\n",
    "bounds = ((0, 1), (0, 1), (0, 1), (0, 1), (0, 1), (0, 1))"
   ]
  },
  {
   "cell_type": "code",
   "execution_count": 30,
   "metadata": {},
   "outputs": [],
   "source": [
    "# Initial Guess (equal distribution)\n",
    "init_guess = [0.166,0.166,0.166,0.166,0.166,0.17]"
   ]
  },
  {
   "cell_type": "code",
   "execution_count": 31,
   "metadata": {},
   "outputs": [],
   "source": [
    "# Sequential Least SQuares Programming (SLSQP).\n",
    "opt_results = minimize(neg_sharpe,init_guess,method='SLSQP',bounds=bounds,constraints=cons)"
   ]
  },
  {
   "cell_type": "code",
   "execution_count": 32,
   "metadata": {},
   "outputs": [
    {
     "data": {
      "text/plain": [
       "     fun: -0.9706396185303401\n",
       "     jac: array([ 2.36034393e-05,  3.43844295e-05,  2.84521662e-01,  2.15895131e-01,\n",
       "        1.68204233e-02, -3.17096710e-05])\n",
       " message: 'Optimization terminated successfully.'\n",
       "    nfev: 40\n",
       "     nit: 5\n",
       "    njev: 5\n",
       "  status: 0\n",
       " success: True\n",
       "       x: array([3.62101107e-01, 1.76654456e-01, 2.32561366e-17, 6.60279123e-17,\n",
       "       1.34983170e-17, 4.61244437e-01])"
      ]
     },
     "execution_count": 32,
     "metadata": {},
     "output_type": "execute_result"
    }
   ],
   "source": [
    "opt_results"
   ]
  },
  {
   "cell_type": "code",
   "execution_count": 33,
   "metadata": {},
   "outputs": [
    {
     "data": {
      "text/plain": [
       "array([3.62101107e-01, 1.76654456e-01, 2.32561366e-17, 6.60279123e-17,\n",
       "       1.34983170e-17, 4.61244437e-01])"
      ]
     },
     "execution_count": 33,
     "metadata": {},
     "output_type": "execute_result"
    }
   ],
   "source": [
    "opt_results.x"
   ]
  },
  {
   "cell_type": "code",
   "execution_count": 34,
   "metadata": {},
   "outputs": [
    {
     "data": {
      "text/plain": [
       "array([0.24626376, 0.25371287, 0.97063962])"
      ]
     },
     "execution_count": 34,
     "metadata": {},
     "output_type": "execute_result"
    }
   ],
   "source": [
    "get_ret_vol_sr(opt_results.x)"
   ]
  },
  {
   "cell_type": "code",
   "execution_count": 35,
   "metadata": {},
   "outputs": [],
   "source": [
    "# All Optimal Portfolios (Efficient Frontier)\n"
   ]
  },
  {
   "cell_type": "code",
   "execution_count": 36,
   "metadata": {},
   "outputs": [],
   "source": [
    "# Our returns go from 0 to somewhere along 0.3\n",
    "# Create a linspace number of points to calculate x on\n",
    "frontier_y = np.linspace(0,0.3,100) # Change 100 to a lower number for slower computers!"
   ]
  },
  {
   "cell_type": "code",
   "execution_count": 37,
   "metadata": {},
   "outputs": [],
   "source": [
    "def minimize_volatility(weights):\n",
    "    return  get_ret_vol_sr(weights)[1] "
   ]
  },
  {
   "cell_type": "code",
   "execution_count": 38,
   "metadata": {},
   "outputs": [],
   "source": [
    "frontier_volatility = []\n",
    "\n",
    "for possible_return in frontier_y:\n",
    "    # function for return\n",
    "    cons = ({'type':'eq','fun': check_sum},\n",
    "            {'type':'eq','fun': lambda w: get_ret_vol_sr(w)[0] - possible_return})\n",
    "    \n",
    "    result = minimize(minimize_volatility,init_guess,method='SLSQP',bounds=bounds,constraints=cons)\n",
    "    \n",
    "    frontier_volatility.append(result['fun'])"
   ]
  },
  {
   "cell_type": "code",
   "execution_count": 39,
   "metadata": {},
   "outputs": [
    {
     "data": {
      "text/plain": [
       "[<matplotlib.lines.Line2D at 0x16d80a1c438>]"
      ]
     },
     "execution_count": 39,
     "metadata": {},
     "output_type": "execute_result"
    },
    {
     "data": {
      "image/png": "[encoded data removed]",
      "text/plain": [
       "<Figure size 864x576 with 2 Axes>"
      ]
     },
     "metadata": {},
     "output_type": "display_data"
    }
   ],
   "source": [
    "plt.figure(figsize=(12,8))\n",
    "plt.scatter(vol_arr,ret_arr,c=sharpe_arr,cmap='plasma')\n",
    "plt.colorbar(label='Sharpe Ratio')\n",
    "plt.xlabel('Volatility')\n",
    "plt.ylabel('Return')\n",
    "\n",
    "\n",
    "\n",
    "# Add frontier line\n",
    "plt.plot(frontier_volatility,frontier_y,'g--',linewidth=3)"
   ]
  },
  {
   "cell_type": "markdown",
   "metadata": {},
   "source": [
    "# Statistical Reference\n",
    "From the above, we learn how to get the efficient frontier for our portfolios. Next, I will calculate alpha, beta, and Value at Risk for the portfolios by using statistical methods."
   ]
  },
  {
   "cell_type": "markdown",
   "metadata": {},
   "source": [
    "## Beta & Capital Asset Pricing Model (CAPM)\n",
    "First, I will discuss alpha and beta for the Capital Asset Pricing Model (CAPM) Model. The goal of the CAPM formula is to evaluate whether a stock is fairly valued when its risk and the time value of money are compared to its expected return.\n",
    "The formula for calculating the expected return of an asset given its risk is as follows:\n",
    "* ERi​=Rf​+βi​(ERm​−Rf​)\n",
    "* where:\n",
    "* ERi​=expected return of investment\n",
    "* Rf​=risk-free rate\n",
    "* βi​=beta of the investment\n",
    "* (ERm​−Rf​) = market risk premium​\n",
    "\n",
    "The beta of a potential investment is a measure of how much risk the investment will add to a portfolio that looks like the market. If a stock is riskier than the market, it will have a beta greater than one. If a stock has a beta of less than one, the formula assumes it will reduce the risk of a portfolio.\n"
   ]
  },
  {
   "cell_type": "markdown",
   "metadata": {},
   "source": [
    "## What is Alpha?\n",
    "* Alpha is a measure of the performance of an investment as compared to a suitable market index, such as the S&P 500. An alpha of one (the baseline value is zero) shows that the return on the investment during a specified time frame outperformed the overall market average by 1%. A negative alpha number reflects an investment that is underperforming as compared to the market average.\n",
    "\n",
    "\n",
    "* Alpha is one of five standard performance ratios that are commonly used to evaluate individual stocks or an investment portfolio, with the other four being beta, standard deviation, R-squared, and the Sharpe ratio. Alpha is usually a single number (e.g., 1 or 4), and is expressed as a percentage that reflects how an investment performed relative to a benchmark index.\n",
    "\n",
    "\n",
    "* A positive alpha of 5 (+5) means that the portfolio’s return exceeded the benchmark index’s performance by 5%. An alpha of negative 5 (-5) indicates that the portfolio underperformed the benchmark index by 5%. An alpha of zero means that the investment earned a return that matched the overall market return as reflected by the selected benchmark index.\n",
    "\n",
    "\n",
    "* The alpha of a portfolio is the excess return it produces compared to the index. Investors in mutual funds or ETFs often look for a fund with a high alpha in hopes of getting a superior return on investment (ROI).\n",
    "\n",
    "\n",
    "* The alpha ratio is often used along with the beta coefficient, which is a measure of the volatility of an investment. The two ratios are both used in the Capital Assets Pricing Model (CAPM) to analyze a portfolio of investments and assess its theoretical performance.\n"
   ]
  },
  {
   "cell_type": "markdown",
   "metadata": {},
   "source": [
    "## Value at Risk (VaR)\n",
    "* Value at risk (VaR) is a statistic used to try and quantify the level of financial risk within a firm or portfolio over a specified time frame. VaR provides an estimate of the maximum loss from a given position or portfolio over a period of time, and you can calculate it across various confidence levels.\n",
    "\n",
    "\n",
    "* Estimating the risk of a portfolio is important to long-term capital growth and risk management, particularly within larger firms or institutions. VaR is typically framed as something like this:\n",
    "\n",
    "\n",
    "* \"We have a portfolio VaR of 250,000 USD over the next month at 95% confidence\"\n",
    "This means that, with 95% confidence, we can say that the portfolio's loss will not exceed 250,000 USD in a month.\n"
   ]
  },
  {
   "cell_type": "markdown",
   "metadata": {},
   "source": [
    "### How is VaR calculated?\n",
    "There are two main ways to calculate VaR: Using Monte Carlo simulation or Using the variance-covariance method.\n",
    "\n",
    "\n",
    "* I will focus on using variance-covariance method. In short, the variance-covariance method looks at historical price movements (standard deviation, mean price) of a given equity or portfolio of equities over a specified lookback period, and then uses probability theory to calculate the maximum loss within your specified confidence interval.\n"
   ]
  },
  {
   "cell_type": "markdown",
   "metadata": {},
   "source": [
    "### VaR calculation Assumptions\n",
    "* 1.Normal distribution of returns - VaR assumes the returns of the portfolio are normally distributed. This is of course not realistic for most assets, but allows us to develop a baseline using a much more simplistic calculation.\n",
    "(Modifications can be made to VaR to account for different distributions, but here we'll focus on the standard VaR calculation)\n",
    "\n",
    "\n",
    "* 2.Standard market conditions - Like many financial instruments, VaR is best used for considering loss in standard markets, and is not well-suited for extreme/outlier events.\n"
   ]
  },
  {
   "cell_type": "markdown",
   "metadata": {},
   "source": [
    "# Codes and Calculation"
   ]
  },
  {
   "cell_type": "markdown",
   "metadata": {},
   "source": [
    "### To calculate beta and alpha for the portfolio:\n",
    "- step 1: Calculate the portfolio daily return\n",
    "- step 2: Calculate the benchmark return\n",
    "- step 3: Check the correlation for the benchmark and portfolio\n",
    "- step 4: Since our portfolio returns are highly correlated to the benchmark returns, we can use the regression model to calculate the portfolio beta and the portfolio alpha. \n",
    "- step 5: Use the linear regression model to calculate the alpha and the beta."
   ]
  },
  {
   "cell_type": "code",
   "execution_count": 51,
   "metadata": {},
   "outputs": [],
   "source": [
    "# Step 1\n",
    "# calculate the daily returns for our assets\n",
    "ret_data = price_data.pct_change()[1:]"
   ]
  },
  {
   "cell_type": "code",
   "execution_count": 57,
   "metadata": {},
   "outputs": [],
   "source": [
    "# The weights of our portfolio\n",
    "wts = np.array([0.32122232, 0.14385507, 0.00239324, 0.01638349, 0.15548085, 0.36066502])"
   ]
  },
  {
   "cell_type": "code",
   "execution_count": 43,
   "metadata": {},
   "outputs": [
    {
     "data": {
      "text/plain": [
       "Date\n",
       "2006-01-04    0.000734\n",
       "2006-01-05   -0.001018\n",
       "2006-01-06    0.009036\n",
       "2006-01-09   -0.003914\n",
       "2006-01-10    0.016813\n",
       "dtype: float64"
      ]
     },
     "execution_count": 43,
     "metadata": {},
     "output_type": "execute_result"
    }
   ],
   "source": [
    "# calculate the portfolio returns\n",
    "port_ret = (ret_data * wts).sum(axis = 1)\n",
    "port_ret.head()"
   ]
  },
  {
   "cell_type": "code",
   "execution_count": 44,
   "metadata": {},
   "outputs": [],
   "source": [
    "# regress the portfolio returns against the benchmark returns. \n",
    "# To do that we will use VGT as our benchmark and calculate its returns.\n",
    "\n",
    "benchmark_price = web.get_data_yahoo('VGT',\n",
    "                               start = '2006-01-01',\n",
    "                               end = '2019-12-31')\n",
    "                               \n",
    "benchmark_ret = benchmark_price[\"Adj Close\"].pct_change()[1:]"
   ]
  },
  {
   "cell_type": "code",
   "execution_count": 45,
   "metadata": {},
   "outputs": [
    {
     "data": {
      "text/plain": [
       "<matplotlib.legend.Legend at 0x16d80fdd3c8>"
      ]
     },
     "execution_count": 45,
     "metadata": {},
     "output_type": "execute_result"
    },
    {
     "data": {
      "image/png": "[encoded data removed]",
      "text/plain": [
       "<Figure size 720x576 with 1 Axes>"
      ]
     },
     "metadata": {},
     "output_type": "display_data"
    }
   ],
   "source": [
    "price_data.plot(label='Portfolio',figsize=(10,8))\n",
    "benchmark_price['Adj Close'].plot(label='VGT')\n",
    "plt.legend()"
   ]
  },
  {
   "cell_type": "code",
   "execution_count": 46,
   "metadata": {},
   "outputs": [
    {
     "data": {
      "image/png": "[encoded data removed]",
      "text/plain": [
       "<Figure size 432x288 with 1 Axes>"
      ]
     },
     "metadata": {},
     "output_type": "display_data"
    }
   ],
   "source": [
    "# visualize the scatter plot of our portfolio returns versus benchmark returns\n",
    "\n",
    "sns.regplot(benchmark_ret.values,port_ret.values)\n",
    "plt.xlabel(\"Benchmark Returns\")\n",
    "plt.ylabel(\"Portfolio Returns\")\n",
    "plt.title(\"Portfolio Returns vs Benchmark Returns\")\n",
    "plt.show()"
   ]
  },
  {
   "cell_type": "code",
   "execution_count": 47,
   "metadata": {},
   "outputs": [],
   "source": [
    "# Our portfolio returns are highly correlated to the benchmark returns. \n",
    "# We can use the regression model to calculate the portfolio beta and the portfolio alpha. \n",
    "# We will use the linear regression model to calculate the alpha and the beta."
   ]
  },
  {
   "cell_type": "code",
   "execution_count": 48,
   "metadata": {},
   "outputs": [
    {
     "name": "stdout",
     "output_type": "stream",
     "text": [
      "The portfolio beta is 0.9629\n"
     ]
    }
   ],
   "source": [
    "(beta, alpha) = stats.linregress(benchmark_ret.values,\n",
    "                port_ret.values)[0:2]\n",
    "                \n",
    "print(\"The portfolio beta is\", round(beta, 4))"
   ]
  },
  {
   "cell_type": "code",
   "execution_count": 49,
   "metadata": {},
   "outputs": [
    {
     "name": "stdout",
     "output_type": "stream",
     "text": [
      "The portfolio alpha is 0.00048\n"
     ]
    }
   ],
   "source": [
    "print(\"The portfolio alpha is\", round(alpha,5))"
   ]
  },
  {
   "cell_type": "markdown",
   "metadata": {},
   "source": [
    "# To calculate the VaR of a portfolio:\n",
    "* Step 1: Calculate periodic returns of the stocks in the portfolio\n",
    "* Step 2: Create a covariance matrix based on the returns\n",
    "* Step 3: Calculate the portfolio mean and standard deviation (weighted based on investment levels of each stock in portfolio)\n",
    "* Step 4: Calculate the inverse of the normal cumulative distribution (PPF) with a specified confidence interval, standard deviation, and mean\n",
    "* Step 5: Estimate the value at risk (VaR) for the portfolio by subtracting the initial investment from the calculation in step (4)\n"
   ]
  },
  {
   "cell_type": "code",
   "execution_count": 50,
   "metadata": {},
   "outputs": [],
   "source": [
    "# Calculate VaR\n",
    "# Set an initial investment level = 1M\n",
    "initial_investment = 1000000"
   ]
  },
  {
   "cell_type": "code",
   "execution_count": 52,
   "metadata": {},
   "outputs": [
    {
     "data": {
      "text/html": [
       "<div>\n",
       "<style scoped>\n",
       "    .dataframe tbody tr th:only-of-type {\n",
       "        vertical-align: middle;\n",
       "    }\n",
       "\n",
       "    .dataframe tbody tr th {\n",
       "        vertical-align: top;\n",
       "    }\n",
       "\n",
       "    .dataframe thead th {\n",
       "        text-align: right;\n",
       "    }\n",
       "</style>\n",
       "<table border=\"1\" class=\"dataframe\">\n",
       "  <thead>\n",
       "    <tr style=\"text-align: right;\">\n",
       "      <th>Symbols</th>\n",
       "      <th>AAPL</th>\n",
       "      <th>AMZN</th>\n",
       "      <th>CSCO</th>\n",
       "      <th>IBM</th>\n",
       "      <th>MSFT</th>\n",
       "      <th>V</th>\n",
       "    </tr>\n",
       "    <tr>\n",
       "      <th>Date</th>\n",
       "      <th></th>\n",
       "      <th></th>\n",
       "      <th></th>\n",
       "      <th></th>\n",
       "      <th></th>\n",
       "      <th></th>\n",
       "    </tr>\n",
       "  </thead>\n",
       "  <tbody>\n",
       "    <tr>\n",
       "      <th>2019-12-24</th>\n",
       "      <td>0.000951</td>\n",
       "      <td>-0.002114</td>\n",
       "      <td>-0.006653</td>\n",
       "      <td>-0.004205</td>\n",
       "      <td>-0.000191</td>\n",
       "      <td>0.002619</td>\n",
       "    </tr>\n",
       "    <tr>\n",
       "      <th>2019-12-26</th>\n",
       "      <td>0.019840</td>\n",
       "      <td>0.044467</td>\n",
       "      <td>0.001465</td>\n",
       "      <td>-0.000519</td>\n",
       "      <td>0.008197</td>\n",
       "      <td>0.008477</td>\n",
       "    </tr>\n",
       "    <tr>\n",
       "      <th>2019-12-27</th>\n",
       "      <td>-0.000380</td>\n",
       "      <td>0.000551</td>\n",
       "      <td>-0.001672</td>\n",
       "      <td>0.002668</td>\n",
       "      <td>0.001828</td>\n",
       "      <td>0.001216</td>\n",
       "    </tr>\n",
       "    <tr>\n",
       "      <th>2019-12-30</th>\n",
       "      <td>0.005935</td>\n",
       "      <td>-0.012253</td>\n",
       "      <td>-0.003768</td>\n",
       "      <td>-0.018186</td>\n",
       "      <td>-0.008619</td>\n",
       "      <td>-0.008237</td>\n",
       "    </tr>\n",
       "    <tr>\n",
       "      <th>2019-12-31</th>\n",
       "      <td>0.007306</td>\n",
       "      <td>0.000514</td>\n",
       "      <td>0.007775</td>\n",
       "      <td>0.009261</td>\n",
       "      <td>0.000698</td>\n",
       "      <td>0.000373</td>\n",
       "    </tr>\n",
       "  </tbody>\n",
       "</table>\n",
       "</div>"
      ],
      "text/plain": [
       "Symbols         AAPL      AMZN      CSCO       IBM      MSFT         V\n",
       "Date                                                                  \n",
       "2019-12-24  0.000951 -0.002114 -0.006653 -0.004205 -0.000191  0.002619\n",
       "2019-12-26  0.019840  0.044467  0.001465 -0.000519  0.008197  0.008477\n",
       "2019-12-27 -0.000380  0.000551 -0.001672  0.002668  0.001828  0.001216\n",
       "2019-12-30  0.005935 -0.012253 -0.003768 -0.018186 -0.008619 -0.008237\n",
       "2019-12-31  0.007306  0.000514  0.007775  0.009261  0.000698  0.000373"
      ]
     },
     "execution_count": 52,
     "metadata": {},
     "output_type": "execute_result"
    }
   ],
   "source": [
    "# Daily Return\n",
    "ret_data.tail()"
   ]
  },
  {
   "cell_type": "code",
   "execution_count": 53,
   "metadata": {},
   "outputs": [
    {
     "data": {
      "text/html": [
       "<div>\n",
       "<style scoped>\n",
       "    .dataframe tbody tr th:only-of-type {\n",
       "        vertical-align: middle;\n",
       "    }\n",
       "\n",
       "    .dataframe tbody tr th {\n",
       "        vertical-align: top;\n",
       "    }\n",
       "\n",
       "    .dataframe thead th {\n",
       "        text-align: right;\n",
       "    }\n",
       "</style>\n",
       "<table border=\"1\" class=\"dataframe\">\n",
       "  <thead>\n",
       "    <tr style=\"text-align: right;\">\n",
       "      <th>Symbols</th>\n",
       "      <th>AAPL</th>\n",
       "      <th>AMZN</th>\n",
       "      <th>CSCO</th>\n",
       "      <th>IBM</th>\n",
       "      <th>MSFT</th>\n",
       "      <th>V</th>\n",
       "    </tr>\n",
       "    <tr>\n",
       "      <th>Symbols</th>\n",
       "      <th></th>\n",
       "      <th></th>\n",
       "      <th></th>\n",
       "      <th></th>\n",
       "      <th></th>\n",
       "      <th></th>\n",
       "    </tr>\n",
       "  </thead>\n",
       "  <tbody>\n",
       "    <tr>\n",
       "      <th>AAPL</th>\n",
       "      <td>0.000400</td>\n",
       "      <td>0.000212</td>\n",
       "      <td>0.000170</td>\n",
       "      <td>0.000122</td>\n",
       "      <td>0.000155</td>\n",
       "      <td>0.000160</td>\n",
       "    </tr>\n",
       "    <tr>\n",
       "      <th>AMZN</th>\n",
       "      <td>0.000212</td>\n",
       "      <td>0.000596</td>\n",
       "      <td>0.000189</td>\n",
       "      <td>0.000135</td>\n",
       "      <td>0.000198</td>\n",
       "      <td>0.000199</td>\n",
       "    </tr>\n",
       "    <tr>\n",
       "      <th>CSCO</th>\n",
       "      <td>0.000170</td>\n",
       "      <td>0.000189</td>\n",
       "      <td>0.000326</td>\n",
       "      <td>0.000135</td>\n",
       "      <td>0.000174</td>\n",
       "      <td>0.000159</td>\n",
       "    </tr>\n",
       "    <tr>\n",
       "      <th>IBM</th>\n",
       "      <td>0.000122</td>\n",
       "      <td>0.000135</td>\n",
       "      <td>0.000135</td>\n",
       "      <td>0.000185</td>\n",
       "      <td>0.000120</td>\n",
       "      <td>0.000115</td>\n",
       "    </tr>\n",
       "    <tr>\n",
       "      <th>MSFT</th>\n",
       "      <td>0.000155</td>\n",
       "      <td>0.000198</td>\n",
       "      <td>0.000174</td>\n",
       "      <td>0.000120</td>\n",
       "      <td>0.000280</td>\n",
       "      <td>0.000148</td>\n",
       "    </tr>\n",
       "    <tr>\n",
       "      <th>V</th>\n",
       "      <td>0.000160</td>\n",
       "      <td>0.000199</td>\n",
       "      <td>0.000159</td>\n",
       "      <td>0.000115</td>\n",
       "      <td>0.000148</td>\n",
       "      <td>0.000339</td>\n",
       "    </tr>\n",
       "  </tbody>\n",
       "</table>\n",
       "</div>"
      ],
      "text/plain": [
       "Symbols      AAPL      AMZN      CSCO       IBM      MSFT         V\n",
       "Symbols                                                            \n",
       "AAPL     0.000400  0.000212  0.000170  0.000122  0.000155  0.000160\n",
       "AMZN     0.000212  0.000596  0.000189  0.000135  0.000198  0.000199\n",
       "CSCO     0.000170  0.000189  0.000326  0.000135  0.000174  0.000159\n",
       "IBM      0.000122  0.000135  0.000135  0.000185  0.000120  0.000115\n",
       "MSFT     0.000155  0.000198  0.000174  0.000120  0.000280  0.000148\n",
       "V        0.000160  0.000199  0.000159  0.000115  0.000148  0.000339"
      ]
     },
     "execution_count": 53,
     "metadata": {},
     "output_type": "execute_result"
    }
   ],
   "source": [
    "# Create a covariance matrix based on the returns\n",
    "# Generate Var-Cov matrix\n",
    "\n",
    "# This will allow us to calculate the standard deviation and mean of returns across the entire portfolio.\n",
    "\n",
    "cov_matrix = ret_data.cov()\n",
    "cov_matrix"
   ]
  },
  {
   "cell_type": "code",
   "execution_count": 54,
   "metadata": {},
   "outputs": [],
   "source": [
    "# Calculate the portfolio mean and standard deviation\n",
    "\n",
    "# Calculate mean returns for each stock\n",
    "avg_rets = ret_data.mean()"
   ]
  },
  {
   "cell_type": "code",
   "execution_count": 55,
   "metadata": {},
   "outputs": [
    {
     "data": {
      "text/plain": [
       "0.001095594065730016"
      ]
     },
     "execution_count": 55,
     "metadata": {},
     "output_type": "execute_result"
    }
   ],
   "source": [
    "# Calculate mean returns for portfolio overall, \n",
    "# using dot product to normalize individual means against investment weights\n",
    "port_mean = avg_rets.dot(wts)\n",
    "port_mean"
   ]
  },
  {
   "cell_type": "code",
   "execution_count": 59,
   "metadata": {},
   "outputs": [
    {
     "data": {
      "text/plain": [
       "0.015077782409531294"
      ]
     },
     "execution_count": 59,
     "metadata": {},
     "output_type": "execute_result"
    }
   ],
   "source": [
    "# Calculate portfolio standard deviation\n",
    "port_stdev = np.sqrt(wts.T.dot(cov_matrix).dot(wts))\n",
    "port_stdev"
   ]
  },
  {
   "cell_type": "code",
   "execution_count": 60,
   "metadata": {},
   "outputs": [
    {
     "data": {
      "text/plain": [
       "1001095.59406573"
      ]
     },
     "execution_count": 60,
     "metadata": {},
     "output_type": "execute_result"
    }
   ],
   "source": [
    "# Calculate mean of investment\n",
    "mean_investment = (1+port_mean) * initial_investment\n",
    "mean_investment"
   ]
  },
  {
   "cell_type": "code",
   "execution_count": 61,
   "metadata": {},
   "outputs": [
    {
     "data": {
      "text/plain": [
       "15077.782409531294"
      ]
     },
     "execution_count": 61,
     "metadata": {},
     "output_type": "execute_result"
    }
   ],
   "source": [
    "# Calculate standard deviation of investmnet\n",
    "stdev_investment = initial_investment * port_stdev\n",
    "stdev_investment"
   ]
  },
  {
   "cell_type": "code",
   "execution_count": 62,
   "metadata": {},
   "outputs": [],
   "source": [
    "# Calculate the inverse of the normal cumulative distribution (PPF) \n",
    "# with a specified confidence interval, standard deviation, and mean\n",
    "\n",
    "# Select our confidence interval (I'll choose 95% here)\n",
    "conf_level1 = 0.05\n",
    "\n",
    "# Using SciPy ppf method to generate values for the\n",
    "# inverse cumulative distribution function to a normal distribution\n",
    "# Plugging in the mean, standard deviation of our portfolio\n",
    "# as calculated above\n",
    "# https://docs.scipy.org/doc/scipy/reference/generated/scipy.stats.norm.html\n",
    "from scipy.stats import norm\n",
    "cutoff1 = norm.ppf(conf_level1, mean_investment, stdev_investment)"
   ]
  },
  {
   "cell_type": "code",
   "execution_count": 63,
   "metadata": {},
   "outputs": [
    {
     "data": {
      "text/plain": [
       "23705.151016972726"
      ]
     },
     "execution_count": 63,
     "metadata": {},
     "output_type": "execute_result"
    }
   ],
   "source": [
    "#Finally, we can calculate the VaR at our confidence interval\n",
    "var_1d1 = initial_investment - cutoff1\n",
    "var_1d1\n"
   ]
  },
  {
   "cell_type": "markdown",
   "metadata": {},
   "source": [
    "#### Here we can say that with 95% confidence that our portfolio of 1M USD will not exceed losses greater than 23K USD over a one day period.\n"
   ]
  },
  {
   "cell_type": "code",
   "execution_count": 64,
   "metadata": {},
   "outputs": [
    {
     "name": "stdout",
     "output_type": "stream",
     "text": [
      "Confidence Level      Value at Risk\n",
      "------------------  ---------------\n",
      "90%                          981773\n",
      "95%                          976295\n",
      "99%                          966019\n"
     ]
    }
   ],
   "source": [
    "VaR_90 = norm.ppf(1-0.9, mean_investment, stdev_investment)\n",
    "VaR_95 = norm.ppf(1-0.95, mean_investment, stdev_investment)\n",
    "VaR_99 = norm.ppf(1-0.99, mean_investment, stdev_investment)\n",
    "\n",
    "print(tabulate([['90%',VaR_90], ['95%',VaR_95], ['99%',VaR_99]], headers=['Confidence Level','Value at Risk']))"
   ]
  },
  {
   "cell_type": "code",
   "execution_count": null,
   "metadata": {},
   "outputs": [],
   "source": []
  }
 ],
 "metadata": {
  "kernelspec": {
   "display_name": "Python 3",
   "language": "python",
   "name": "python3"
  },
  "language_info": {
   "codemirror_mode": {
    "name": "ipython",
    "version": 3
   },
   "file_extension": ".py",
   "mimetype": "text/x-python",
   "name": "python",
   "nbconvert_exporter": "python",
   "pygments_lexer": "ipython3",
   "version": "3.6.5"
  }
 },
 "nbformat": 4,
 "nbformat_minor": 2
}
